{
  "nbformat": 4,
  "nbformat_minor": 0,
  "metadata": {
    "colab": {
      "provenance": []
    },
    "kernelspec": {
      "name": "python3",
      "display_name": "Python 3"
    },
    "language_info": {
      "name": "python"
    }
  },
  "cells": [
    {
      "cell_type": "markdown",
      "source": [
        "# **URL com o link dos dados utilizados:**"
      ],
      "metadata": {
        "id": "PWGsqOOU2n9v"
      }
    },
    {
      "cell_type": "code",
      "execution_count": null,
      "metadata": {
        "id": "e5GM5EUl1zMh"
      },
      "outputs": [],
      "source": [
        "url = 'https://github.com/alura-cursos/python-analise-chatgpt-assistente/raw/main/Dados/dados_vendas.json'"
      ]
    },
    {
      "cell_type": "markdown",
      "source": [
        "# **Importar as bibliotecas necessárias:**"
      ],
      "metadata": {
        "id": "b4Nyrk_J3NIG"
      }
    },
    {
      "cell_type": "code",
      "source": [
        "import numpy as np\n",
        "import pandas as pd"
      ],
      "metadata": {
        "id": "-3x50nHz2y_c"
      },
      "execution_count": null,
      "outputs": []
    },
    {
      "cell_type": "code",
      "source": [
        "df = pd.read_json(url)"
      ],
      "metadata": {
        "id": "8o-UWkE46C_D"
      },
      "execution_count": null,
      "outputs": []
    },
    {
      "cell_type": "code",
      "source": [
        "# Importe a função json_normalize\n",
        "from pandas import json_normalize\n",
        "\n",
        "# Normalize os dados da coluna \"item\"\n",
        "df_item_normalized = json_normalize(df['item'])\n",
        "\n",
        "# Normalize os dados da coluna \"loja\"\n",
        "df_loja_normalized = json_normalize(df['loja'])\n",
        "\n",
        "# Combine os DataFrames normalizados com o DataFrame original\n",
        "df = pd.concat([df, df_item_normalized, df_loja_normalized], axis=1)\n",
        "\n",
        "# Exclua as colunas originais de \"item\" e \"loja\" se necessário\n",
        "df.drop(['item', 'loja'], axis=1, inplace=True)\n",
        "df"
      ],
      "metadata": {
        "id": "j8Wd0RrA39LK"
      },
      "execution_count": null,
      "outputs": []
    },
    {
      "cell_type": "markdown",
      "source": [
        "# **Ler o conteúdo da URL sem muita formatação:**"
      ],
      "metadata": {
        "id": "eIWaecfD3TqB"
      }
    },
    {
      "cell_type": "code",
      "source": [
        "# Verifica as 5 primeiras linhas:\n",
        "df.head()"
      ],
      "metadata": {
        "id": "NCSz0DL73KLl"
      },
      "execution_count": null,
      "outputs": []
    },
    {
      "cell_type": "code",
      "source": [
        "# Resumo estatístico das colunas numéricas\n",
        "df.describe()"
      ],
      "metadata": {
        "id": "h85vc5Js4cuG"
      },
      "execution_count": null,
      "outputs": []
    },
    {
      "cell_type": "code",
      "source": [
        "# Informações gerais sobre o DataFrame, incluindo tipos de dados e contagem de valores não nulos\n",
        "df.info()"
      ],
      "metadata": {
        "id": "vLFy45ks4f8v"
      },
      "execution_count": null,
      "outputs": []
    },
    {
      "cell_type": "code",
      "source": [
        "# Verificar a contagem de valores únicos em cada coluna\n",
        "df.nunique()"
      ],
      "metadata": {
        "id": "jaO1S7XZ4jSu"
      },
      "execution_count": null,
      "outputs": []
    },
    {
      "cell_type": "code",
      "source": [
        "# Verificar se há valores duplicados no DataFrame\n",
        "df.duplicated().sum()"
      ],
      "metadata": {
        "id": "r3eQQJJK4ts1"
      },
      "execution_count": null,
      "outputs": []
    },
    {
      "cell_type": "code",
      "source": [
        "# Verificar se há valores ausentes (NaN) em cada coluna\n",
        "df.isnull().sum()"
      ],
      "metadata": {
        "id": "UYi3kepP97Yy"
      },
      "execution_count": null,
      "outputs": []
    },
    {
      "cell_type": "code",
      "source": [
        "# Verificar se há valores únicos em colunas específicas, por exemplo, \"item_identificador” e “loja_identificador”\n",
        "df['item_conteudo_gordura'].unique()"
      ],
      "metadata": {
        "id": "X0H3odBO_amD"
      },
      "execution_count": null,
      "outputs": []
    },
    {
      "cell_type": "markdown",
      "source": [
        "# **Arrumando, Removendo ou Substituindo valores nulos, sem padrão ou errados:**"
      ],
      "metadata": {
        "id": "25E7_qDxmIVr"
      }
    },
    {
      "cell_type": "code",
      "source": [
        "# Remove valores duplicados\n",
        "df.drop_duplicates(inplace=True)\n",
        "df"
      ],
      "metadata": {
        "id": "sRfHjhGedwY4"
      },
      "execution_count": null,
      "outputs": []
    },
    {
      "cell_type": "code",
      "source": [
        "# Remove a coluna 'item_quantidade_venda' pois seus valores estão nulos, a coluna está errada e dispensável\n",
        "df.drop(columns=['item_quantidade_venda'], inplace=True)"
      ],
      "metadata": {
        "id": "kjRQ_5ExhUR-"
      },
      "execution_count": null,
      "outputs": []
    },
    {
      "cell_type": "code",
      "source": [
        "# Define valores médios para valores nulos da coluna 'item_peso'. É possível encontrar a média e outros valores em df.describe()\n",
        "df['item_peso'].fillna(df['item_peso'].mean(), inplace=True)"
      ],
      "metadata": {
        "id": "BJ8FKRwUh8Fk"
      },
      "execution_count": null,
      "outputs": []
    },
    {
      "cell_type": "code",
      "source": [
        "# Substituí os valores nulos por uma frase, exemplo: 'Não registrado'.\n",
        "df['loja_tamanho'].fillna('Não registrado', inplace=True)"
      ],
      "metadata": {
        "id": "-4gHWHHMifDG"
      },
      "execution_count": null,
      "outputs": []
    },
    {
      "cell_type": "code",
      "source": [
        "# Verificar os valores alterados\n",
        "df.info()"
      ],
      "metadata": {
        "id": "v0ca9FPhj06m"
      },
      "execution_count": null,
      "outputs": []
    },
    {
      "cell_type": "code",
      "source": [
        "# Mapeie os valores não padronizados para os valores padronizados\n",
        "mapeamento = {\n",
        "    'BTG': 'Baixo Teor de Gordura',\n",
        "    'reg': 'Regular',\n",
        "    'baixo teor de gordura': 'Baixo Teor de Gordura'\n",
        "}\n",
        "\n",
        "# Use a função replace para substituir os valores na coluna\n",
        "df['item_conteudo_gordura'] = df['item_conteudo_gordura'].replace(mapeamento)\n",
        "\n",
        "# Verifique os valores únicos após a substituição\n",
        "df['item_conteudo_gordura'].unique()"
      ],
      "metadata": {
        "id": "hhq2NXMSl5zJ"
      },
      "execution_count": null,
      "outputs": []
    },
    {
      "cell_type": "code",
      "source": [
        "# Trocas o tipo de dado de uma coluna, no caso de float para int\n",
        "# \"df['nome_da_coluna'] = df['nome_da_coluna'].astype(int)\""
      ],
      "metadata": {
        "id": "9OcImEdBmvmr"
      },
      "execution_count": null,
      "outputs": []
    },
    {
      "cell_type": "markdown",
      "source": [
        "# **Visualização de Dados:**"
      ],
      "metadata": {
        "id": "YkUXbT4fq5jq"
      }
    },
    {
      "cell_type": "code",
      "source": [
        "import matplotlib.pyplot as plt\n",
        "import pandas as pd\n",
        "\n",
        "# Crie um DataFrame com os dados agrupados por tamanho de loja, somando as 'vendas_totais' por 'loja_tamanho', por exemplo:\n",
        "# Pequena - 20, Pequena - 15, Média - 10, Grande - 5, Grande - 5 = Pequena - 35, Média - 10 e Grande - 10\n",
        "df_agrupado = df.groupby('loja_tamanho')['vendas_totais'].sum().reset_index()\n",
        "\n",
        "# Cores\n",
        "cor_fundo = \"#ebebeb\"\n",
        "cor_barras = \"#e23155\"\n",
        "cor_texto = \"#19325c\"\n",
        "\n",
        "# Crie a figura e o eixo\n",
        "fig, ax = plt.subplots(figsize=(10, 6))\n",
        "fig.set_facecolor(cor_fundo)\n",
        "ax.set_facecolor(cor_fundo)\n",
        "\n",
        "# Plote as barras\n",
        "barras = ax.bar(df_agrupado['loja_tamanho'], df_agrupado['vendas_totais'], color=cor_barras)\n",
        "\n",
        "# Adicione o total de vendas acima de cada barra\n",
        "for bar in barras:\n",
        "    altura_barra = bar.get_height()\n",
        "    valor_vendas = altura_barra / 1000000  # Converter para milhões\n",
        "    ax.annotate(f'R$ {valor_vendas:.2f} M', xy=(bar.get_x() + bar.get_width() / 2, altura_barra),\n",
        "                xytext=(0, 3), textcoords='offset points', ha='center', color=cor_texto)\n",
        "\n",
        "# Configurações adicionais\n",
        "ax.set_ylabel('Total de Vendas (R$)')\n",
        "ax.set_title('Total de Vendas por Tamanho de Loja')\n",
        "plt.xticks(rotation=0)\n",
        "ax.spines['top'].set_visible(False)\n",
        "ax.spines['right'].set_visible(False)\n",
        "ax.spines['bottom'].set_color(cor_texto)\n",
        "ax.spines['left'].set_color(cor_texto)\n",
        "ax.tick_params(axis='x', colors=cor_texto)\n",
        "ax.tick_params(axis='y', colors=cor_texto)\n",
        "ax.yaxis.label.set_color(cor_texto)\n",
        "ax.xaxis.label.set_color(cor_texto)\n",
        "\n",
        "# Exibir o gráfico\n",
        "plt.tight_layout()\n",
        "plt.show()"
      ],
      "metadata": {
        "id": "jJUahNCdq_E4"
      },
      "execution_count": null,
      "outputs": []
    },
    {
      "cell_type": "code",
      "source": [
        "import matplotlib.pyplot as plt\n",
        "import pandas as pd\n",
        "\n",
        "# Crie um DataFrame com os dados agrupados por tipo de loja\n",
        "df_agrupado = df.groupby('loja_tipo')['vendas_totais'].sum().reset_index()\n",
        "\n",
        "# Cores\n",
        "cor_fundo = \"#ebebeb\"\n",
        "cor_barras = \"#e23155\"\n",
        "cor_texto = \"#19325c\"\n",
        "\n",
        "# Crie a figura e o eixo\n",
        "fig, ax = plt.subplots(figsize=(10, 6))\n",
        "fig.set_facecolor(cor_fundo)\n",
        "ax.set_facecolor(cor_fundo)\n",
        "\n",
        "# Plote as barras\n",
        "barras = ax.bar(df_agrupado['loja_tipo'], df_agrupado['vendas_totais'], color=cor_barras)\n",
        "\n",
        "# Adicione o total de vendas acima de cada barra\n",
        "for bar in barras:\n",
        "    altura_barra = bar.get_height()\n",
        "    valor_vendas = altura_barra / 1000000  # Converter para milhões\n",
        "    ax.annotate(f'R$ {valor_vendas:.2f} M', xy=(bar.get_x() + bar.get_width() / 2, altura_barra),\n",
        "                xytext=(0, 3), textcoords='offset points', ha='center', color=cor_texto)\n",
        "\n",
        "# Configurações adicionais\n",
        "ax.set_ylabel('Total de Vendas (R$)')\n",
        "ax.set_title('Total de Vendas por Tipo de Loja')\n",
        "plt.xticks(rotation=0)\n",
        "ax.spines['top'].set_visible(False)\n",
        "ax.spines['right'].set_visible(False)\n",
        "ax.spines['bottom'].set_color(cor_texto)\n",
        "ax.spines['left'].set_color(cor_texto)\n",
        "ax.tick_params(axis='x', colors=cor_texto)\n",
        "ax.tick_params(axis='y', colors=cor_texto)\n",
        "ax.yaxis.label.set_color(cor_texto)\n",
        "ax.xaxis.label.set_color(cor_texto)\n",
        "\n",
        "# Exibir o gráfico\n",
        "plt.tight_layout()\n",
        "plt.show()"
      ],
      "metadata": {
        "id": "_T7t1tY-twsD"
      },
      "execution_count": null,
      "outputs": []
    },
    {
      "cell_type": "code",
      "source": [
        "import matplotlib.pyplot as plt\n",
        "import pandas as pd\n",
        "\n",
        "# Crie um DataFrame com os dados agrupados por categoria de produto\n",
        "df_agrupado = df.groupby('item_tipo')['vendas_totais'].sum().reset_index()\n",
        "\n",
        "# Cores\n",
        "cor_fundo = \"#ebebeb\"\n",
        "cor_barras = \"#e23155\"\n",
        "cor_texto = \"#19325c\"\n",
        "\n",
        "# Ordenar o DataFrame por vendas totais (funil)\n",
        "df_agrupado = df_agrupado.sort_values(by='vendas_totais', ascending=True)\n",
        "\n",
        "# Crie a figura e o eixo\n",
        "fig, ax = plt.subplots(figsize=(10, 6))\n",
        "fig.set_facecolor(cor_fundo)\n",
        "ax.set_facecolor(cor_fundo)\n",
        "\n",
        "# Plote as barras horizontais\n",
        "barras = ax.barh(df_agrupado['item_tipo'], df_agrupado['vendas_totais'], color=cor_barras)\n",
        "\n",
        "# Adicione o total de vendas dentro de cada barra\n",
        "for bar in barras:\n",
        "    largura_barra = bar.get_width()\n",
        "    valor_vendas = largura_barra / 1000000  # Converter para milhões\n",
        "    ax.annotate(f'R$ {valor_vendas:.2f} M', xy=(largura_barra, bar.get_y() + bar.get_height() / 2),\n",
        "                xytext=(5, 0), textcoords='offset points', va='center', color=cor_texto)\n",
        "\n",
        "# Configurações adicionais\n",
        "ax.set_xlabel('Total de Vendas (R$)')\n",
        "ax.set_title('Total de Vendas por Categoria de Produto')\n",
        "ax.spines['top'].set_visible(False)\n",
        "ax.spines['right'].set_visible(False)\n",
        "ax.spines['bottom'].set_color(cor_texto)\n",
        "ax.spines['left'].set_color(cor_texto)\n",
        "ax.tick_params(axis='x', colors=cor_texto)\n",
        "ax.tick_params(axis='y', colors=cor_texto)\n",
        "ax.xaxis.label.set_color(cor_texto)\n",
        "ax.yaxis.label.set_color(cor_texto)\n",
        "ax.grid(False)\n",
        "\n",
        "# Inverter a ordem das categorias de produtos para manter o aspecto de funil\n",
        "ax.invert_yaxis()\n",
        "\n",
        "# Exibir o gráfico\n",
        "plt.tight_layout()\n",
        "plt.show()"
      ],
      "metadata": {
        "id": "mhM-Cv4VvirF"
      },
      "execution_count": null,
      "outputs": []
    },
    {
      "cell_type": "code",
      "source": [
        "import matplotlib.pyplot as plt\n",
        "import pandas as pd\n",
        "\n",
        "# Crie um DataFrame com os dados agrupados por categoria de quantidade de gordura\n",
        "df_agrupado = df.groupby('item_conteudo_gordura')['vendas_totais'].sum().reset_index()\n",
        "\n",
        "# Cores\n",
        "cor_fundo = \"#ebebeb\"\n",
        "cor_baixo_gordura = \"#e23155\"\n",
        "cor_regular = \"#acdcd3\"\n",
        "cor_texto = \"#19325c\"\n",
        "\n",
        "# Crie a figura e o eixo\n",
        "fig, ax = plt.subplots(figsize=(8, 6))\n",
        "fig.set_facecolor(cor_fundo)\n",
        "ax.set_facecolor(cor_fundo)\n",
        "\n",
        "# Plote as colunas\n",
        "barras = ax.bar(df_agrupado['item_conteudo_gordura'], df_agrupado['vendas_totais'],\n",
        "                color=[cor_baixo_gordura, cor_regular])\n",
        "\n",
        "# Adicione o total de vendas acima de cada coluna\n",
        "for bar in barras:\n",
        "    altura_barra = bar.get_height()\n",
        "    valor_vendas = altura_barra / 1000000  # Converter para milhões\n",
        "    ax.annotate(f'R$ {valor_vendas:.2f} M', xy=(bar.get_x() + bar.get_width() / 2, altura_barra),\n",
        "                xytext=(0, 3), textcoords='offset points', ha='center', color=cor_texto)\n",
        "\n",
        "# Configurações adicionais\n",
        "ax.set_ylabel('Total de Vendas (R$)')\n",
        "ax.set_title('Total de Vendas por Conteúdo de Gordura')\n",
        "ax.spines['top'].set_visible(False)\n",
        "ax.spines['right'].set_visible(False)\n",
        "ax.spines['bottom'].set_color(cor_texto)\n",
        "ax.spines['left'].set_color(cor_texto)\n",
        "ax.tick_params(axis='x', colors=cor_texto)\n",
        "ax.tick_params(axis='y', colors=cor_texto)\n",
        "ax.xaxis.label.set_color(cor_texto)\n",
        "ax.yaxis.label.set_color(cor_texto)\n",
        "ax.grid(False)\n",
        "\n",
        "# Exibir o gráfico\n",
        "plt.tight_layout()\n",
        "plt.show()"
      ],
      "metadata": {
        "id": "KmJXwP-owVTM",
        "outputId": "fd806157-e990-424d-8e64-e205a91610da",
        "colab": {
          "base_uri": "https://localhost:8080/",
          "height": 606
        }
      },
      "execution_count": null,
      "outputs": [
        {
          "output_type": "display_data",
          "data": {
            "text/plain": [
              "<Figure size 800x600 with 1 Axes>"
            ],
            "image/png": "[encoded data removed]"
          },
          "metadata": {}
        }
      ]
    },
    {
      "cell_type": "code",
      "source": [],
      "metadata": {
        "id": "zlRb7EJFwV4F"
      },
      "execution_count": null,
      "outputs": []
    }
  ]
}